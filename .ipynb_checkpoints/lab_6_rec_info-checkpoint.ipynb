{
 "cells": [
  {
   "cell_type": "code",
   "execution_count": 44,
   "metadata": {
    "colab": {
     "base_uri": "https://localhost:8080/",
     "height": 51
    },
    "colab_type": "code",
    "id": "05Nb7fbgCc4K",
    "outputId": "556d9944-bfb4-4844-eb2a-84bbca859537"
   },
   "outputs": [
    {
     "name": "stdout",
     "output_type": "stream",
     "text": [
      "[nltk_data] Downloading package stopwords to /root/nltk_data...\n",
      "[nltk_data]   Package stopwords is already up-to-date!\n"
     ]
    }
   ],
   "source": [
    "import pandas as pandas\n",
    "import numpy as numpy\n",
    "import nltk\n",
    "import re\n",
    "import collections\n",
    "import bisect\n",
    "from nltk.tokenize import RegexpTokenizer\n",
    "\n",
    "nltk.download('stopwords')\n",
    "resultado = pandas.read_csv('https://raw.githubusercontent.com/AgnaldoCC/lab_6_recinfo/master/results.csv')"
   ]
  },
  {
   "cell_type": "markdown",
   "metadata": {
    "colab_type": "text",
    "id": "Ist6MBmgGtT6"
   },
   "source": [
    "**1. Reconstruir o índice considerando o conjunto de dados que indicamos. Esses são os dados coletados por Bernardi e os estaremos usando para facilitar a correção da atividade. Se você já estiver usando esses dados não precisa reconstruir o índice;**\n",
    "\n"
   ]
  },
  {
   "cell_type": "code",
   "execution_count": 45,
   "metadata": {
    "colab": {
     "base_uri": "https://localhost:8080/",
     "height": 71
    },
    "colab_type": "code",
    "id": "qWwGOpsIGzmU",
    "outputId": "811acfa5-c68e-4b9e-b58e-65172feb72b5"
   },
   "outputs": [
    {
     "name": "stderr",
     "output_type": "stream",
     "text": [
      "/usr/local/lib/python2.7/dist-packages/ipykernel_launcher.py:9: UnicodeWarning: Unicode equal comparison failed to convert both arguments to Unicode - interpreting them as being unequal\n",
      "  if __name__ == '__main__':\n"
     ]
    }
   ],
   "source": [
    "tokens = RegexpTokenizer(r'([A-Za-zÁáÉéÍíÓóÚúÃãÕõÇçÂâÊê]{3,27})')\n",
    "stopwords = nltk.corpus.stopwords.words('portuguese') \n",
    "indices = {}\n",
    "n = 0\n",
    "\n",
    "for text in resultado.text:\n",
    "  words = [word for word in tokens.tokenize(text.lower())\n",
    "           if not bool(re.search(r'\\d', word))\n",
    "           and word not in stopwords and len(word) >= 3]  \n",
    "  n += 1\n",
    "  for t in words:\n",
    "    if t not in indices.keys():\n",
    "      indices[t] = []\n",
    "    indices[t].append(n)\n",
    "    \n",
    "for elem in indices.items():\n",
    "  d = dict(collections.Counter(elem[1]))\n",
    "  indices[elem[0]] = list(d.items())"
   ]
  },
  {
   "cell_type": "code",
   "execution_count": 46,
   "metadata": {
    "colab": {
     "base_uri": "https://localhost:8080/",
     "height": 359
    },
    "colab_type": "code",
    "id": "_WUCYGIIHfKa",
    "outputId": "12d2088e-0309-4099-deb1-ddff4f111808"
   },
   "outputs": [
    {
     "data": {
      "text/html": [
       "<div>\n",
       "<style scoped>\n",
       "    .dataframe tbody tr th:only-of-type {\n",
       "        vertical-align: middle;\n",
       "    }\n",
       "\n",
       "    .dataframe tbody tr th {\n",
       "        vertical-align: top;\n",
       "    }\n",
       "\n",
       "    .dataframe thead th {\n",
       "        text-align: right;\n",
       "    }\n",
       "</style>\n",
       "<table border=\"1\" class=\"dataframe\">\n",
       "  <thead>\n",
       "    <tr style=\"text-align: right;\">\n",
       "      <th></th>\n",
       "      <th>Word</th>\n",
       "      <th>Documents and Frequencies</th>\n",
       "    </tr>\n",
       "  </thead>\n",
       "  <tbody>\n",
       "    <tr>\n",
       "      <th>0</th>\n",
       "      <td>obrigaria</td>\n",
       "      <td>[(91, 1), (213, 1)]</td>\n",
       "    </tr>\n",
       "    <tr>\n",
       "      <th>1</th>\n",
       "      <td>meloso</td>\n",
       "      <td>[(186, 1)]</td>\n",
       "    </tr>\n",
       "    <tr>\n",
       "      <th>2</th>\n",
       "      <td>bloqueou</td>\n",
       "      <td>[(69, 1), (206, 1)]</td>\n",
       "    </tr>\n",
       "    <tr>\n",
       "      <th>3</th>\n",
       "      <td>explodindo</td>\n",
       "      <td>[(11, 1)]</td>\n",
       "    </tr>\n",
       "    <tr>\n",
       "      <th>4</th>\n",
       "      <td>espaços</td>\n",
       "      <td>[(38, 1), (166, 1), (7, 1), (169, 1), (11, 1),...</td>\n",
       "    </tr>\n",
       "    <tr>\n",
       "      <th>5</th>\n",
       "      <td>suzano</td>\n",
       "      <td>[(214, 5), (239, 7)]</td>\n",
       "    </tr>\n",
       "    <tr>\n",
       "      <th>6</th>\n",
       "      <td>francesco</td>\n",
       "      <td>[(73, 1), (97, 1)]</td>\n",
       "    </tr>\n",
       "    <tr>\n",
       "      <th>7</th>\n",
       "      <td>impotente</td>\n",
       "      <td>[(29, 1)]</td>\n",
       "    </tr>\n",
       "    <tr>\n",
       "      <th>8</th>\n",
       "      <td>prazo</td>\n",
       "      <td>[(128, 1), (129, 2), (70, 1), (65, 2), (137, 2...</td>\n",
       "    </tr>\n",
       "    <tr>\n",
       "      <th>9</th>\n",
       "      <td>paternalista</td>\n",
       "      <td>[(11, 1)]</td>\n",
       "    </tr>\n",
       "  </tbody>\n",
       "</table>\n",
       "</div>"
      ],
      "text/plain": [
       "           Word                          Documents and Frequencies\n",
       "0     obrigaria                                [(91, 1), (213, 1)]\n",
       "1        meloso                                         [(186, 1)]\n",
       "2      bloqueou                                [(69, 1), (206, 1)]\n",
       "3    explodindo                                          [(11, 1)]\n",
       "4       espaços  [(38, 1), (166, 1), (7, 1), (169, 1), (11, 1),...\n",
       "5        suzano                               [(214, 5), (239, 7)]\n",
       "6     francesco                                 [(73, 1), (97, 1)]\n",
       "7     impotente                                          [(29, 1)]\n",
       "8         prazo  [(128, 1), (129, 2), (70, 1), (65, 2), (137, 2...\n",
       "9  paternalista                                          [(11, 1)]"
      ]
     },
     "execution_count": 46,
     "metadata": {
      "tags": []
     },
     "output_type": "execute_result"
    }
   ],
   "source": [
    "indices_df = pandas.DataFrame()\n",
    "indices_df['Word'] = indices.keys()\n",
    "indices_df['Documents and Frequencies'] = indices.values()\n",
    "\n",
    "indices_df.head(10)"
   ]
  },
  {
   "cell_type": "markdown",
   "metadata": {
    "colab_type": "text",
    "id": "itTUj2nvIX5h"
   },
   "source": [
    "**2. Refinar o índice invertido de forma a também incluir o IDF (inverse document frequency) de cada termo do dicionário;**"
   ]
  },
  {
   "cell_type": "code",
   "execution_count": 0,
   "metadata": {
    "colab": {},
    "colab_type": "code",
    "id": "Kf__Aq7dIZtU"
   },
   "outputs": [],
   "source": [
    "M = resultado.text.count()\n",
    "for word in indices:\n",
    "  k = len(indices[word])\n",
    "  IDF = round(numpy.log((M+1)/k),2)\n",
    "  indices[word].append(IDF)"
   ]
  },
  {
   "cell_type": "code",
   "execution_count": 48,
   "metadata": {
    "colab": {
     "base_uri": "https://localhost:8080/",
     "height": 359
    },
    "colab_type": "code",
    "id": "YfpbComjIlpK",
    "outputId": "bd493037-bb2f-46af-eef9-f4d03ad189eb"
   },
   "outputs": [
    {
     "data": {
      "text/html": [
       "<div>\n",
       "<style scoped>\n",
       "    .dataframe tbody tr th:only-of-type {\n",
       "        vertical-align: middle;\n",
       "    }\n",
       "\n",
       "    .dataframe tbody tr th {\n",
       "        vertical-align: top;\n",
       "    }\n",
       "\n",
       "    .dataframe thead th {\n",
       "        text-align: right;\n",
       "    }\n",
       "</style>\n",
       "<table border=\"1\" class=\"dataframe\">\n",
       "  <thead>\n",
       "    <tr style=\"text-align: right;\">\n",
       "      <th></th>\n",
       "      <th>Word</th>\n",
       "      <th>Documents and Frequencies</th>\n",
       "      <th>IDF</th>\n",
       "    </tr>\n",
       "  </thead>\n",
       "  <tbody>\n",
       "    <tr>\n",
       "      <th>0</th>\n",
       "      <td>obrigaria</td>\n",
       "      <td>[(91, 1), (213, 1), 4.83]</td>\n",
       "      <td>4.83</td>\n",
       "    </tr>\n",
       "    <tr>\n",
       "      <th>1</th>\n",
       "      <td>meloso</td>\n",
       "      <td>[(186, 1), 5.52]</td>\n",
       "      <td>5.52</td>\n",
       "    </tr>\n",
       "    <tr>\n",
       "      <th>2</th>\n",
       "      <td>bloqueou</td>\n",
       "      <td>[(69, 1), (206, 1), 4.83]</td>\n",
       "      <td>4.83</td>\n",
       "    </tr>\n",
       "    <tr>\n",
       "      <th>3</th>\n",
       "      <td>explodindo</td>\n",
       "      <td>[(11, 1), 5.52]</td>\n",
       "      <td>5.52</td>\n",
       "    </tr>\n",
       "    <tr>\n",
       "      <th>4</th>\n",
       "      <td>espaços</td>\n",
       "      <td>[(38, 1), (166, 1), (7, 1), (169, 1), (11, 1),...</td>\n",
       "      <td>2.77</td>\n",
       "    </tr>\n",
       "    <tr>\n",
       "      <th>5</th>\n",
       "      <td>suzano</td>\n",
       "      <td>[(214, 5), (239, 7), 4.83]</td>\n",
       "      <td>4.83</td>\n",
       "    </tr>\n",
       "    <tr>\n",
       "      <th>6</th>\n",
       "      <td>francesco</td>\n",
       "      <td>[(73, 1), (97, 1), 4.83]</td>\n",
       "      <td>4.83</td>\n",
       "    </tr>\n",
       "    <tr>\n",
       "      <th>7</th>\n",
       "      <td>impotente</td>\n",
       "      <td>[(29, 1), 5.52]</td>\n",
       "      <td>5.52</td>\n",
       "    </tr>\n",
       "    <tr>\n",
       "      <th>8</th>\n",
       "      <td>prazo</td>\n",
       "      <td>[(128, 1), (129, 2), (70, 1), (65, 2), (137, 2...</td>\n",
       "      <td>2.30</td>\n",
       "    </tr>\n",
       "    <tr>\n",
       "      <th>9</th>\n",
       "      <td>paternalista</td>\n",
       "      <td>[(11, 1), 5.52]</td>\n",
       "      <td>5.52</td>\n",
       "    </tr>\n",
       "  </tbody>\n",
       "</table>\n",
       "</div>"
      ],
      "text/plain": [
       "           Word                          Documents and Frequencies   IDF\n",
       "0     obrigaria                          [(91, 1), (213, 1), 4.83]  4.83\n",
       "1        meloso                                   [(186, 1), 5.52]  5.52\n",
       "2      bloqueou                          [(69, 1), (206, 1), 4.83]  4.83\n",
       "3    explodindo                                    [(11, 1), 5.52]  5.52\n",
       "4       espaços  [(38, 1), (166, 1), (7, 1), (169, 1), (11, 1),...  2.77\n",
       "5        suzano                         [(214, 5), (239, 7), 4.83]  4.83\n",
       "6     francesco                           [(73, 1), (97, 1), 4.83]  4.83\n",
       "7     impotente                                    [(29, 1), 5.52]  5.52\n",
       "8         prazo  [(128, 1), (129, 2), (70, 1), (65, 2), (137, 2...  2.30\n",
       "9  paternalista                                    [(11, 1), 5.52]  5.52"
      ]
     },
     "execution_count": 48,
     "metadata": {
      "tags": []
     },
     "output_type": "execute_result"
    }
   ],
   "source": [
    "indices_df['IDF'] = [index[-1] for index in indices.values()]\n",
    "\n",
    "indices_df.head(10)"
   ]
  },
  {
   "cell_type": "markdown",
   "metadata": {
    "colab_type": "text",
    "id": "r5sYWSGhJCj-"
   },
   "source": [
    "**3. Implementar as seguintes versões do modelo vetorial:**"
   ]
  },
  {
   "cell_type": "markdown",
   "metadata": {
    "colab_type": "text",
    "id": "rnYfxrpwJFAG"
   },
   "source": [
    "**3.1. Representação binária**"
   ]
  },
  {
   "cell_type": "code",
   "execution_count": 0,
   "metadata": {
    "colab": {},
    "colab_type": "code",
    "id": "GY2NHsLGJMB3"
   },
   "outputs": [],
   "source": [
    "def binaria(query, document):\n",
    "  score = 0\n",
    "  query_tokens = query.split()\n",
    "  doc_tokens = document.split()\n",
    "  \n",
    "  for token in query_tokens:\n",
    "    score += (token in doc_tokens)\n",
    "    \n",
    "  return score"
   ]
  },
  {
   "cell_type": "markdown",
   "metadata": {
    "colab_type": "text",
    "id": "t_vMqhY_JWY8"
   },
   "source": [
    "**3.2. TF (lembre-se que esse modelo já está implementado)**"
   ]
  },
  {
   "cell_type": "code",
   "execution_count": 0,
   "metadata": {
    "colab": {},
    "colab_type": "code",
    "id": "StuGit0kJbqg"
   },
   "outputs": [],
   "source": [
    "def tf(query, document):\n",
    "  score = 0\n",
    "  doc_tokens = document.split()\n",
    "  query_tokens = query.split()\n",
    "  \n",
    "  for word in query_tokens:\n",
    "    score += doc_tokens.count(word)\n",
    "  \n",
    "  return score"
   ]
  },
  {
   "cell_type": "markdown",
   "metadata": {
    "colab_type": "text",
    "id": "Cbqxi2o7JgRq"
   },
   "source": [
    "**3.3 TF-IDF**"
   ]
  },
  {
   "cell_type": "code",
   "execution_count": 0,
   "metadata": {
    "colab": {},
    "colab_type": "code",
    "id": "pmejs4fbJkaw"
   },
   "outputs": [],
   "source": [
    "def tfidf(query, document):\n",
    "  score = 0\n",
    "  doc_tokens = document.split()\n",
    "  query_tokens = query.split()\n",
    "  \n",
    "  for word in query_tokens:\n",
    "    cwd = doc_tokens.count(word)\n",
    "    if word in indices:\n",
    "      score += cwd * indices[word][-1]\n",
    "  \n",
    "  return round(score,2)"
   ]
  },
  {
   "cell_type": "markdown",
   "metadata": {
    "colab_type": "text",
    "id": "qvD0WRJmJqeU"
   },
   "source": [
    "**3.4 BM25 (não usaremos Okapi já que os documentos não tem grande variação de tamanho)**"
   ]
  },
  {
   "cell_type": "code",
   "execution_count": 0,
   "metadata": {
    "colab": {},
    "colab_type": "code",
    "id": "ePrEdSpBJt5K"
   },
   "outputs": [],
   "source": [
    "def bm25(query, document, k):\n",
    "  score = 0\n",
    "  doc_tokens = document.split()\n",
    "  query_tokens = query.split()\n",
    "  \n",
    "  words = [word for word in query_tokens if word in doc_tokens]\n",
    "    \n",
    "  for word in words:\n",
    "    cwd = doc_tokens.count(word)\n",
    "    dfw = 0\n",
    "    if word in indices:\n",
    "      dfw = len(indices[word][:-1])\n",
    "    score += (((k+1) * cwd) / (cwd + k)) * numpy.log10(((M+1) / dfw)) if dfw != 0 else 0\n",
    "  \n",
    "  return round(score,2)"
   ]
  },
  {
   "cell_type": "markdown",
   "metadata": {
    "colab_type": "text",
    "id": "rY-pc-FPKid6"
   },
   "source": [
    "**4. Execute os algoritmos separadamente em 3 consultas de sua escolha e retorne os top-5 documentos mais similares à cada consulta;**"
   ]
  },
  {
   "cell_type": "code",
   "execution_count": 0,
   "metadata": {
    "colab": {},
    "colab_type": "code",
    "id": "H66mMVXnKkwL"
   },
   "outputs": [],
   "source": [
    "queries = ['bolsonaro', 'futebol', 'ministro']"
   ]
  },
  {
   "cell_type": "code",
   "execution_count": 0,
   "metadata": {
    "colab": {},
    "colab_type": "code",
    "id": "6vxhOs6GLDpd"
   },
   "outputs": [],
   "source": [
    "def cria_modelos(query):\n",
    "  n = 0\n",
    "  db = []\n",
    "  dtf = []\n",
    "  dtfidf = []\n",
    "  dbm25 = []\n",
    "  for doc in resultado.text:\n",
    "    doc = doc.lower()\n",
    "    n += 1\n",
    "    bisect.insort(db, (binaria(query, doc), n))\n",
    "    bisect.insort(dtf, (tf(query,doc), n))\n",
    "    bisect.insort(dtfidf, (tfidf(query,doc), n))\n",
    "    bisect.insort(dbm25, (bm25(query,doc,20), n))\n",
    "  \n",
    "  db.reverse()\n",
    "  dtf.reverse()\n",
    "  dtfidf.reverse()\n",
    "  dbm25.reverse()\n",
    "  \n",
    "  return db[:5], dtf[:5], dtfidf[:5], dbm25[:5]"
   ]
  },
  {
   "cell_type": "code",
   "execution_count": 0,
   "metadata": {
    "colab": {},
    "colab_type": "code",
    "id": "sstBp7bMLS9U"
   },
   "outputs": [],
   "source": [
    "top5_binaria = ['','','']\n",
    "top5_tf = ['','','']\n",
    "top5_tfidf = ['','','']\n",
    "top5_bm25 = ['','','']\n",
    "\n",
    "top5_binaria[0], top5_tf[0], top5_tfidf[0], top5_bm25[0] = cria_modelos(queries[0])\n",
    "top5_binaria[1], top5_tf[1], top5_tfidf[1], top5_bm25[1] = cria_modelos(queries[1])\n",
    "top5_binaria[2], top5_tf[2], top5_tfidf[2], top5_bm25[2] = cria_modelos(queries[2])"
   ]
  },
  {
   "cell_type": "code",
   "execution_count": 56,
   "metadata": {
    "colab": {
     "base_uri": "https://localhost:8080/",
     "height": 193
    },
    "colab_type": "code",
    "id": "hNQqAUgEL7Pc",
    "outputId": "a84bd5d3-dd1b-4973-945d-d07ee758ee46"
   },
   "outputs": [
    {
     "data": {
      "text/html": [
       "<div>\n",
       "<style scoped>\n",
       "    .dataframe tbody tr th:only-of-type {\n",
       "        vertical-align: middle;\n",
       "    }\n",
       "\n",
       "    .dataframe tbody tr th {\n",
       "        vertical-align: top;\n",
       "    }\n",
       "\n",
       "    .dataframe thead th {\n",
       "        text-align: right;\n",
       "    }\n",
       "</style>\n",
       "<table border=\"1\" class=\"dataframe\">\n",
       "  <thead>\n",
       "    <tr style=\"text-align: right;\">\n",
       "      <th></th>\n",
       "      <th>Query</th>\n",
       "      <th>Binaria</th>\n",
       "      <th>TF</th>\n",
       "      <th>TF-IDF</th>\n",
       "      <th>BM25</th>\n",
       "    </tr>\n",
       "  </thead>\n",
       "  <tbody>\n",
       "    <tr>\n",
       "      <th>1</th>\n",
       "      <td>bolsonaro</td>\n",
       "      <td>[(1, 248), (1, 240), (1, 238), (1, 237), (1, 2...</td>\n",
       "      <td>[(32, 151), (30, 207), (30, 166), (19, 19), (1...</td>\n",
       "      <td>[(35.2, 151), (33.0, 207), (33.0, 166), (20.9,...</td>\n",
       "      <td>[(5.73, 207), (5.73, 166), (5.73, 151), (4.77,...</td>\n",
       "    </tr>\n",
       "    <tr>\n",
       "      <th>2</th>\n",
       "      <td>futebol</td>\n",
       "      <td>[(1, 243), (1, 242), (1, 212), (1, 189), (1, 1...</td>\n",
       "      <td>[(7, 242), (7, 47), (6, 115), (5, 118), (3, 212)]</td>\n",
       "      <td>[(16.8, 242), (16.8, 47), (14.4, 115), (12.0, ...</td>\n",
       "      <td>[(5.21, 242), (5.21, 47), (4.17, 118), (4.17, ...</td>\n",
       "    </tr>\n",
       "    <tr>\n",
       "      <th>3</th>\n",
       "      <td>ministro</td>\n",
       "      <td>[(1, 247), (1, 246), (1, 240), (1, 236), (1, 2...</td>\n",
       "      <td>[(11, 222), (7, 240), (7, 209), (6, 215), (5, ...</td>\n",
       "      <td>[(15.29, 222), (9.73, 240), (9.73, 209), (8.34...</td>\n",
       "      <td>[(4.21, 222), (3.01, 240), (3.01, 209), (2.41,...</td>\n",
       "    </tr>\n",
       "  </tbody>\n",
       "</table>\n",
       "</div>"
      ],
      "text/plain": [
       "       Query  ...                                               BM25\n",
       "1  bolsonaro  ...  [(5.73, 207), (5.73, 166), (5.73, 151), (4.77,...\n",
       "2    futebol  ...  [(5.21, 242), (5.21, 47), (4.17, 118), (4.17, ...\n",
       "3   ministro  ...  [(4.21, 222), (3.01, 240), (3.01, 209), (2.41,...\n",
       "\n",
       "[3 rows x 5 columns]"
      ]
     },
     "execution_count": 56,
     "metadata": {
      "tags": []
     },
     "output_type": "execute_result"
    }
   ],
   "source": [
    "query_df = pandas.DataFrame()\n",
    "\n",
    "query_df['Query'] = queries\n",
    "query_df['Binaria'] = top5_binaria\n",
    "query_df['TF'] = top5_tf\n",
    "query_df['TF-IDF'] = top5_tfidf\n",
    "query_df['BM25'] = top5_bm25\n",
    "\n",
    "query_df.index+=1\n",
    "query_df"
   ]
  },
  {
   "cell_type": "markdown",
   "metadata": {
    "colab_type": "text",
    "id": "R7HCxsk3METj"
   },
   "source": [
    "**5. Compare os resultados encontrados e responda.**"
   ]
  },
  {
   "cell_type": "markdown",
   "metadata": {
    "colab_type": "text",
    "id": "bjSw7Y88MF1A"
   },
   "source": [
    "**5.1. Quais modelos você acha que trouxe os melhores resultados? Por que? Inspecione os documentos retornados para melhor embasar sua resposta.**"
   ]
  },
  {
   "cell_type": "markdown",
   "metadata": {
    "colab_type": "text",
    "id": "tYXOaVACMhuX"
   },
   "source": [
    "Após a analise realizada sobre os resultados, os modelos TF-IDF e BM25 apresentaram os melhores resultados, sendo ambos bem semelhantes. Mas, se fosse para escolher um método, levando em conta todas as variáveis, o melhor seria o TF-IDF, já que apresenta um resultado satisfatório e é menos complexo que o BM25."
   ]
  },
  {
   "cell_type": "markdown",
   "metadata": {
    "colab_type": "text",
    "id": "TeltIK9hNGFo"
   },
   "source": [
    "**5.2. Calcule e reporte o overlap par-a-par entre os resultados de cada modelo (usando o índice de Jaccard)**"
   ]
  },
  {
   "cell_type": "code",
   "execution_count": 0,
   "metadata": {
    "colab": {},
    "colab_type": "code",
    "id": "kvXrtirjNK1k"
   },
   "outputs": [],
   "source": [
    "def intersection_size(a,b):\n",
    "  return len([elem for elem in a if elem in b])\n",
    "\n",
    "def indice_jaccard(a,b):\n",
    "  l_a = len(a)\n",
    "  l_b = len(b)\n",
    "  l_ab = intersection_size(a,b)\n",
    "  exp = l_a + l_b - l_ab\n",
    "  jaccard = l_ab / exp if exp != 0 else 0\n",
    "  return jaccard"
   ]
  },
  {
   "cell_type": "code",
   "execution_count": 0,
   "metadata": {
    "colab": {},
    "colab_type": "code",
    "id": "MFwiBUvOOEkd"
   },
   "outputs": [],
   "source": [
    "def get_top1_score(top5):\n",
    "  return [top[0][0] for top in top5]\n",
    "\n",
    "def get_top1_doc(top5):\n",
    "  return [top[0][1] for top in top5]\n",
    "\n",
    "def get_doc_title(docs):\n",
    "  return [resultado.title[doc] for doc in docs]"
   ]
  },
  {
   "cell_type": "code",
   "execution_count": 0,
   "metadata": {
    "colab": {},
    "colab_type": "code",
    "id": "h9vg27yFNsI9"
   },
   "outputs": [],
   "source": [
    "score_top5_binaria = get_top1_score(top5_binaria)\n",
    "score_top5_tf = get_top1_score(top5_tf)\n",
    "score_top5_tfidf = get_top1_score(top5_tfidf)\n",
    "score_top5_bm25 = get_top1_score(top5_bm25)\n",
    "\n",
    "doc_top5_binaria = get_top1_doc(top5_binaria)\n",
    "doc_top5_tf = get_top1_doc(top5_tf)\n",
    "doc_top5_tfidf = get_top1_doc(top5_tfidf)\n",
    "doc_top5_bm25 = get_top1_doc(top5_bm25)\n",
    "\n",
    "titles_binaria = get_doc_title(doc_top5_binaria)\n",
    "titles_tf = get_doc_title(doc_top5_tf)\n",
    "titles_tfidf = get_doc_title(doc_top5_tfidf)\n",
    "titles_bm25 = get_doc_title(doc_top5_bm25)"
   ]
  },
  {
   "cell_type": "code",
   "execution_count": 60,
   "metadata": {
    "colab": {
     "base_uri": "https://localhost:8080/",
     "height": 204
    },
    "colab_type": "code",
    "id": "aQkmdNcQNa1m",
    "outputId": "fe59265e-e76f-4965-83b6-d084702f3591"
   },
   "outputs": [
    {
     "data": {
      "text/html": [
       "<div>\n",
       "<style scoped>\n",
       "    .dataframe tbody tr th:only-of-type {\n",
       "        vertical-align: middle;\n",
       "    }\n",
       "\n",
       "    .dataframe tbody tr th {\n",
       "        vertical-align: top;\n",
       "    }\n",
       "\n",
       "    .dataframe thead th {\n",
       "        text-align: right;\n",
       "    }\n",
       "</style>\n",
       "<table border=\"1\" class=\"dataframe\">\n",
       "  <thead>\n",
       "    <tr style=\"text-align: right;\">\n",
       "      <th></th>\n",
       "      <th>0</th>\n",
       "      <th>1</th>\n",
       "      <th>2</th>\n",
       "      <th>3</th>\n",
       "      <th>4</th>\n",
       "    </tr>\n",
       "  </thead>\n",
       "  <tbody>\n",
       "    <tr>\n",
       "      <th>0</th>\n",
       "      <td>Measure</td>\n",
       "      <td>Binary</td>\n",
       "      <td>TF</td>\n",
       "      <td>TF-IDF</td>\n",
       "      <td>BM25</td>\n",
       "    </tr>\n",
       "    <tr>\n",
       "      <th>1</th>\n",
       "      <td>Binary</td>\n",
       "      <td>1</td>\n",
       "      <td>0</td>\n",
       "      <td>0</td>\n",
       "      <td>0</td>\n",
       "    </tr>\n",
       "    <tr>\n",
       "      <th>2</th>\n",
       "      <td>TF</td>\n",
       "      <td>0</td>\n",
       "      <td>1</td>\n",
       "      <td>0</td>\n",
       "      <td>0</td>\n",
       "    </tr>\n",
       "    <tr>\n",
       "      <th>3</th>\n",
       "      <td>TF-IDF</td>\n",
       "      <td>0</td>\n",
       "      <td>0</td>\n",
       "      <td>1</td>\n",
       "      <td>1</td>\n",
       "    </tr>\n",
       "    <tr>\n",
       "      <th>4</th>\n",
       "      <td>BM25</td>\n",
       "      <td>0</td>\n",
       "      <td>0</td>\n",
       "      <td>1</td>\n",
       "      <td>1</td>\n",
       "    </tr>\n",
       "  </tbody>\n",
       "</table>\n",
       "</div>"
      ],
      "text/plain": [
       "         0       1   2       3     4\n",
       "0  Measure  Binary  TF  TF-IDF  BM25\n",
       "1   Binary       1   0       0     0\n",
       "2       TF       0   1       0     0\n",
       "3   TF-IDF       0   0       1     1\n",
       "4     BM25       0   0       1     1"
      ]
     },
     "execution_count": 60,
     "metadata": {
      "tags": []
     },
     "output_type": "execute_result"
    }
   ],
   "source": [
    "all_docs = []\n",
    "all_docs.append(doc_top5_binaria)\n",
    "all_docs.append(doc_top5_bm25)\n",
    "all_docs.append(doc_top5_tf)\n",
    "all_docs.append(doc_top5_tfidf)\n",
    "\n",
    "matriz = [['Measure', 'Binary', 'TF', 'TF-IDF', 'BM25']]\n",
    "titles = matriz\n",
    "for i in range(len(all_docs)):\n",
    "  line = []\n",
    "  for j in range(len(all_docs)):\n",
    "    jaccard = indice_jaccard(all_docs[i], all_docs[j])\n",
    "    line.append(round(jaccard,2))\n",
    "  matriz.append(line)\n",
    "for i in range(1, len(matriz)):\n",
    "  matriz[i].insert(0, matriz[0][i])\n",
    "  \n",
    "pandas.DataFrame(matriz)"
   ]
  }
 ],
 "metadata": {
  "colab": {
   "name": "lab_6_rec_info.ipynb",
   "provenance": [],
   "version": "0.3.2"
  },
  "kernelspec": {
   "display_name": "Python 2",
   "name": "python2"
  }
 },
 "nbformat": 4,
 "nbformat_minor": 1
}
